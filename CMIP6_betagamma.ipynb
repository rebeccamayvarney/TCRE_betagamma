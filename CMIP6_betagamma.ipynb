{
 "cells": [
  {
   "cell_type": "code",
   "execution_count": 18,
   "id": "d8e5f120",
   "metadata": {},
   "outputs": [],
   "source": [
    "import numpy as np\n",
    "import iris\n",
    "from iris import cube\n",
    "import iris.coord_categorisation\n",
    "import iris.analysis.cartography\n",
    "import glob\n",
    "import warnings\n",
    "from iris.util import equalise_attributes \n",
    "from iris.util import unify_time_units\n",
    "import matplotlib as mpl\n",
    "import matplotlib.pyplot as plt\n",
    "from matplotlib import gridspec as gspec\n",
    "from matplotlib.lines import Line2D"
   ]
  },
  {
   "cell_type": "code",
   "execution_count": 19,
   "id": "8ac2ac68",
   "metadata": {},
   "outputs": [],
   "source": [
    "### Becky CMIP6 functions\n",
    "\n",
    "#\n",
    "def combine_netCDF_model(directory, model):\n",
    "\n",
    "    list_files = glob.glob(directory)\n",
    "    list_files = np.array(list_files)\n",
    "    newlist = np.sort(list_files)\n",
    "\n",
    "    Cubelist = iris.cube.CubeList([])\n",
    "\n",
    "    for i in range(0, len(newlist)):\n",
    "\n",
    "        with warnings.catch_warnings():\n",
    "            warnings.simplefilter('ignore', FutureWarning)\n",
    "            warnings.simplefilter('ignore', UserWarning)\n",
    "\n",
    "            cube = iris.load_cube(newlist[i])\n",
    "            Cubelist.append(cube)\n",
    "\n",
    "    unify_time_units(Cubelist)\n",
    "    equalise_attributes(Cubelist)\n",
    "\n",
    "    new_cube = Cubelist.concatenate_cube()\n",
    "\n",
    "    return new_cube\n",
    "\n",
    "#\n",
    "def combine_netCDF_cmip6(directory, model):\n",
    "\n",
    "    list_files = glob.glob(directory)\n",
    "    list_files = np.array(list_files)\n",
    "    newlist = np.sort(list_files)\n",
    "\n",
    "    Cubelist = iris.cube.CubeList([])\n",
    "\n",
    "    for i in range(0, len(newlist)):\n",
    "\n",
    "        with warnings.catch_warnings():\n",
    "            warnings.simplefilter('ignore', FutureWarning)\n",
    "            warnings.simplefilter('ignore', UserWarning)\n",
    "            \n",
    "            cube = iris.load_cube(newlist[i])\n",
    "\n",
    "            cube.coord('latitude').attributes = {}\n",
    "            cube.coord('longitude').attributes = {}  \n",
    "            if i == 0:\n",
    "                metadata1 = cube.metadata\n",
    "            else:\n",
    "                cube.metadata = metadata1\n",
    "            \n",
    "            if model=='IPSL-CM6A-LR' or model=='CNRM-ESM2-1':\n",
    "                 cube.coord('latitude').guess_bounds()\n",
    "                 cube.coord('longitude').guess_bounds()\n",
    "         \n",
    "            # CESM2 bound issue fix\n",
    "            if (model=='CESM2') & (i==0):\n",
    "                lat_data = cube.coord('latitude').points\n",
    "                lon_data = cube.coord('longitude').points\n",
    "                lat_bounds = cube.coord('latitude').bounds\n",
    "                lon_bounds = cube.coord('longitude').bounds\n",
    "            elif (model=='CESM2') & (i>0):\n",
    "                cube.coord('latitude').points = lat_data\n",
    "                cube.coord('longitude').points = lon_data\n",
    "                cube.coord('latitude').bounds = lat_bounds\n",
    "                cube.coord('longitude').bounds = lon_bounds\n",
    "    \n",
    "            if model=='IPSL-CM6A-LR':\n",
    "                cube.coord('time').attributes.pop('time_origin')\n",
    "            \n",
    "            Cubelist.append(cube)\n",
    "\n",
    "    unify_time_units(Cubelist)\n",
    "    equalise_attributes(Cubelist)\n",
    "\n",
    "    for cube in Cubelist:\n",
    "        lon_bounds = Cubelist[0].coord('longitude').bounds\n",
    "        cube.coord('longitude').bounds = lon_bounds\n",
    "\n",
    "    for i, cube in enumerate(Cubelist):\n",
    "        if cube.coord('time').units == Cubelist[0].coord('time').units:\n",
    "            pass\n",
    "        else:\n",
    "            print(i)\n",
    "            \n",
    "    new_cube = Cubelist.concatenate_cube()\n",
    "\n",
    "    return new_cube\n",
    "\n",
    "#\n",
    "def open_netCDF(new_cube):\n",
    "\n",
    "    iris.coord_categorisation.add_year(new_cube, 'time', name='year') # add year\n",
    "    iris.coord_categorisation.add_month(new_cube, 'time', name ='month') # add month\n",
    "    iris.coord_categorisation.add_month(new_cube, 'time', name ='decade') # add month\n",
    "\n",
    "    return new_cube\n",
    "\n",
    "#\n",
    "def annual_average(new_cube):\n",
    "\n",
    "    annual_average_cube = new_cube.aggregated_by('year', iris.analysis.MEAN)\n",
    "\n",
    "    return annual_average_cube\n",
    "\n",
    "#\n",
    "def global_total_percentage(cubein, landfrac=None, latlon_cons=None):\n",
    "\n",
    "    cube = cubein.copy()\n",
    "    if landfrac is not None:\n",
    "        try:\n",
    "            cube.data = cube.data * (landfrac.data/100)\n",
    "        except:\n",
    "            landfrac = landfrac.extract(latlon_cons)\n",
    "            cube.data = cube.data * (landfrac.data/100)\n",
    "\n",
    "    if cube.coord('latitude').bounds is not None:\n",
    "        pass\n",
    "    else:\n",
    "        cube.coord('latitude').guess_bounds()\n",
    "        cube.coord('longitude').guess_bounds()\n",
    "\n",
    "    weights = iris.analysis.cartography.area_weights(cube)\n",
    "\n",
    "    cube_areaweight = cube.collapsed(['latitude', 'longitude'], iris.analysis.SUM, weights=weights)/1e12\n",
    "\n",
    "    return cube_areaweight\n",
    "\n",
    "#\n",
    "def area_average(cube, region):\n",
    "\n",
    "    lon1, lon2, lat1, lat2 = region[0], region[1], region[2], region[3] \n",
    "    cube = cube.intersection(longitude=(lon1, lon2),latitude=(lat1, lat2))\n",
    "\n",
    "    weights = iris.analysis.cartography.area_weights(cube)\n",
    "    cube = cube.collapsed(['latitude','longitude'], iris.analysis.MEAN, weights=weights)\n",
    "\n",
    "    return cube\n",
    "\n",
    "\n",
    "def centered_moving_average(data, average_length):\n",
    "    if average_length < 1:\n",
    "        raise ValueError(\"average_length must be >= 1\")\n",
    "    if average_length > len(data):\n",
    "        raise ValueError(\"average_length larger than data length\")\n",
    "    \n",
    "    kernel = np.ones(average_length) / average_length\n",
    "    rolling_avg = np.convolve(data, kernel, mode='valid')\n",
    "\n",
    "    return rolling_avg\n"
   ]
  },
  {
   "cell_type": "code",
   "execution_count": 20,
   "id": "1932cb33",
   "metadata": {},
   "outputs": [
    {
     "name": "stdout",
     "output_type": "stream",
     "text": [
      "ACCESS-ESM1-5\n"
     ]
    },
    {
     "name": "stderr",
     "output_type": "stream",
     "text": [
      "/Users/rebeccamayvarney/anaconda3/envs/rmv/lib/python3.11/site-packages/iris/analysis/cartography.py:413: UserWarning: Using DEFAULT_SPHERICAL_EARTH_RADIUS.\n",
      "  warnings.warn(\"Using DEFAULT_SPHERICAL_EARTH_RADIUS.\")\n",
      "/Users/rebeccamayvarney/anaconda3/envs/rmv/lib/python3.11/site-packages/iris/analysis/cartography.py:413: UserWarning: Using DEFAULT_SPHERICAL_EARTH_RADIUS.\n",
      "  warnings.warn(\"Using DEFAULT_SPHERICAL_EARTH_RADIUS.\")\n",
      "/Users/rebeccamayvarney/anaconda3/envs/rmv/lib/python3.11/site-packages/iris/analysis/cartography.py:413: UserWarning: Using DEFAULT_SPHERICAL_EARTH_RADIUS.\n",
      "  warnings.warn(\"Using DEFAULT_SPHERICAL_EARTH_RADIUS.\")\n"
     ]
    },
    {
     "name": "stdout",
     "output_type": "stream",
     "text": [
      "4xCO2 T*=0 ACCESS-ESM1-5 0.33308824289510514 -20.84245390922718\n",
      "BCC-CSM2-MR\n"
     ]
    },
    {
     "name": "stderr",
     "output_type": "stream",
     "text": [
      "/Users/rebeccamayvarney/anaconda3/envs/rmv/lib/python3.11/site-packages/iris/analysis/cartography.py:413: UserWarning: Using DEFAULT_SPHERICAL_EARTH_RADIUS.\n",
      "  warnings.warn(\"Using DEFAULT_SPHERICAL_EARTH_RADIUS.\")\n",
      "/Users/rebeccamayvarney/anaconda3/envs/rmv/lib/python3.11/site-packages/iris/analysis/cartography.py:413: UserWarning: Using DEFAULT_SPHERICAL_EARTH_RADIUS.\n",
      "  warnings.warn(\"Using DEFAULT_SPHERICAL_EARTH_RADIUS.\")\n",
      "/Users/rebeccamayvarney/anaconda3/envs/rmv/lib/python3.11/site-packages/iris/analysis/cartography.py:413: UserWarning: Using DEFAULT_SPHERICAL_EARTH_RADIUS.\n",
      "  warnings.warn(\"Using DEFAULT_SPHERICAL_EARTH_RADIUS.\")\n",
      "/Users/rebeccamayvarney/anaconda3/envs/rmv/lib/python3.11/site-packages/iris/analysis/cartography.py:413: UserWarning: Using DEFAULT_SPHERICAL_EARTH_RADIUS.\n",
      "  warnings.warn(\"Using DEFAULT_SPHERICAL_EARTH_RADIUS.\")\n",
      "/Users/rebeccamayvarney/anaconda3/envs/rmv/lib/python3.11/site-packages/iris/analysis/cartography.py:413: UserWarning: Using DEFAULT_SPHERICAL_EARTH_RADIUS.\n",
      "  warnings.warn(\"Using DEFAULT_SPHERICAL_EARTH_RADIUS.\")\n",
      "/Users/rebeccamayvarney/anaconda3/envs/rmv/lib/python3.11/site-packages/iris/analysis/cartography.py:413: UserWarning: Using DEFAULT_SPHERICAL_EARTH_RADIUS.\n",
      "  warnings.warn(\"Using DEFAULT_SPHERICAL_EARTH_RADIUS.\")\n",
      "/Users/rebeccamayvarney/anaconda3/envs/rmv/lib/python3.11/site-packages/iris/analysis/cartography.py:413: UserWarning: Using DEFAULT_SPHERICAL_EARTH_RADIUS.\n",
      "  warnings.warn(\"Using DEFAULT_SPHERICAL_EARTH_RADIUS.\")\n"
     ]
    },
    {
     "name": "stdout",
     "output_type": "stream",
     "text": [
      "4xCO2 T*=0 BCC-CSM2-MR 1.4241866284704114 -151.27083011639627\n",
      "CanESM5\n"
     ]
    },
    {
     "name": "stderr",
     "output_type": "stream",
     "text": [
      "/Users/rebeccamayvarney/anaconda3/envs/rmv/lib/python3.11/site-packages/iris/analysis/cartography.py:413: UserWarning: Using DEFAULT_SPHERICAL_EARTH_RADIUS.\n",
      "  warnings.warn(\"Using DEFAULT_SPHERICAL_EARTH_RADIUS.\")\n",
      "/Users/rebeccamayvarney/anaconda3/envs/rmv/lib/python3.11/site-packages/iris/analysis/cartography.py:413: UserWarning: Using DEFAULT_SPHERICAL_EARTH_RADIUS.\n",
      "  warnings.warn(\"Using DEFAULT_SPHERICAL_EARTH_RADIUS.\")\n",
      "/Users/rebeccamayvarney/anaconda3/envs/rmv/lib/python3.11/site-packages/iris/analysis/cartography.py:413: UserWarning: Using DEFAULT_SPHERICAL_EARTH_RADIUS.\n",
      "  warnings.warn(\"Using DEFAULT_SPHERICAL_EARTH_RADIUS.\")\n"
     ]
    },
    {
     "name": "stdout",
     "output_type": "stream",
     "text": [
      "4xCO2 T*=0 CanESM5 1.2950877856201124 17.062353870366252\n",
      "CESM2\n"
     ]
    },
    {
     "name": "stderr",
     "output_type": "stream",
     "text": [
      "/Users/rebeccamayvarney/anaconda3/envs/rmv/lib/python3.11/site-packages/iris/analysis/cartography.py:413: UserWarning: Using DEFAULT_SPHERICAL_EARTH_RADIUS.\n",
      "  warnings.warn(\"Using DEFAULT_SPHERICAL_EARTH_RADIUS.\")\n",
      "/Users/rebeccamayvarney/anaconda3/envs/rmv/lib/python3.11/site-packages/iris/analysis/cartography.py:413: UserWarning: Using DEFAULT_SPHERICAL_EARTH_RADIUS.\n",
      "  warnings.warn(\"Using DEFAULT_SPHERICAL_EARTH_RADIUS.\")\n",
      "/Users/rebeccamayvarney/anaconda3/envs/rmv/lib/python3.11/site-packages/iris/analysis/cartography.py:413: UserWarning: Using DEFAULT_SPHERICAL_EARTH_RADIUS.\n",
      "  warnings.warn(\"Using DEFAULT_SPHERICAL_EARTH_RADIUS.\")\n"
     ]
    },
    {
     "name": "stdout",
     "output_type": "stream",
     "text": [
      "4xCO2 T*=0 CESM2 0.8929467859086552 -21.17615150528781\n",
      "CNRM-ESM2-1\n"
     ]
    },
    {
     "name": "stderr",
     "output_type": "stream",
     "text": [
      "/Users/rebeccamayvarney/anaconda3/envs/rmv/lib/python3.11/site-packages/iris/analysis/cartography.py:413: UserWarning: Using DEFAULT_SPHERICAL_EARTH_RADIUS.\n",
      "  warnings.warn(\"Using DEFAULT_SPHERICAL_EARTH_RADIUS.\")\n",
      "/Users/rebeccamayvarney/anaconda3/envs/rmv/lib/python3.11/site-packages/iris/analysis/cartography.py:413: UserWarning: Using DEFAULT_SPHERICAL_EARTH_RADIUS.\n",
      "  warnings.warn(\"Using DEFAULT_SPHERICAL_EARTH_RADIUS.\")\n",
      "/Users/rebeccamayvarney/anaconda3/envs/rmv/lib/python3.11/site-packages/iris/analysis/cartography.py:413: UserWarning: Using DEFAULT_SPHERICAL_EARTH_RADIUS.\n",
      "  warnings.warn(\"Using DEFAULT_SPHERICAL_EARTH_RADIUS.\")\n"
     ]
    },
    {
     "name": "stdout",
     "output_type": "stream",
     "text": [
      "4xCO2 T*=0 CNRM-ESM2-1 1.355566921250886 -87.05742123997517\n",
      "GFDL-ESM4\n"
     ]
    },
    {
     "name": "stderr",
     "output_type": "stream",
     "text": [
      "/Users/rebeccamayvarney/anaconda3/envs/rmv/lib/python3.11/site-packages/iris/analysis/cartography.py:413: UserWarning: Using DEFAULT_SPHERICAL_EARTH_RADIUS.\n",
      "  warnings.warn(\"Using DEFAULT_SPHERICAL_EARTH_RADIUS.\")\n",
      "/Users/rebeccamayvarney/anaconda3/envs/rmv/lib/python3.11/site-packages/iris/analysis/cartography.py:413: UserWarning: Using DEFAULT_SPHERICAL_EARTH_RADIUS.\n",
      "  warnings.warn(\"Using DEFAULT_SPHERICAL_EARTH_RADIUS.\")\n",
      "/Users/rebeccamayvarney/anaconda3/envs/rmv/lib/python3.11/site-packages/iris/analysis/cartography.py:413: UserWarning: Using DEFAULT_SPHERICAL_EARTH_RADIUS.\n",
      "  warnings.warn(\"Using DEFAULT_SPHERICAL_EARTH_RADIUS.\")\n"
     ]
    },
    {
     "name": "stdout",
     "output_type": "stream",
     "text": [
      "4xCO2 T*=0 GFDL-ESM4 0.909425131230436 -73.47194701494759\n",
      "IPSL-CM6A-LR\n"
     ]
    },
    {
     "name": "stderr",
     "output_type": "stream",
     "text": [
      "/Users/rebeccamayvarney/anaconda3/envs/rmv/lib/python3.11/site-packages/iris/analysis/cartography.py:413: UserWarning: Using DEFAULT_SPHERICAL_EARTH_RADIUS.\n",
      "  warnings.warn(\"Using DEFAULT_SPHERICAL_EARTH_RADIUS.\")\n",
      "/Users/rebeccamayvarney/anaconda3/envs/rmv/lib/python3.11/site-packages/iris/analysis/cartography.py:413: UserWarning: Using DEFAULT_SPHERICAL_EARTH_RADIUS.\n",
      "  warnings.warn(\"Using DEFAULT_SPHERICAL_EARTH_RADIUS.\")\n",
      "/Users/rebeccamayvarney/anaconda3/envs/rmv/lib/python3.11/site-packages/iris/analysis/cartography.py:413: UserWarning: Using DEFAULT_SPHERICAL_EARTH_RADIUS.\n",
      "  warnings.warn(\"Using DEFAULT_SPHERICAL_EARTH_RADIUS.\")\n"
     ]
    },
    {
     "name": "stdout",
     "output_type": "stream",
     "text": [
      "4xCO2 T*=0 IPSL-CM6A-LR 0.5476140401585547 -3.8017191390576905\n",
      "MIROC-ES2L\n"
     ]
    },
    {
     "name": "stderr",
     "output_type": "stream",
     "text": [
      "/Users/rebeccamayvarney/anaconda3/envs/rmv/lib/python3.11/site-packages/iris/analysis/cartography.py:413: UserWarning: Using DEFAULT_SPHERICAL_EARTH_RADIUS.\n",
      "  warnings.warn(\"Using DEFAULT_SPHERICAL_EARTH_RADIUS.\")\n",
      "/Users/rebeccamayvarney/anaconda3/envs/rmv/lib/python3.11/site-packages/iris/analysis/cartography.py:413: UserWarning: Using DEFAULT_SPHERICAL_EARTH_RADIUS.\n",
      "  warnings.warn(\"Using DEFAULT_SPHERICAL_EARTH_RADIUS.\")\n",
      "/Users/rebeccamayvarney/anaconda3/envs/rmv/lib/python3.11/site-packages/iris/analysis/cartography.py:413: UserWarning: Using DEFAULT_SPHERICAL_EARTH_RADIUS.\n",
      "  warnings.warn(\"Using DEFAULT_SPHERICAL_EARTH_RADIUS.\")\n",
      "/Users/rebeccamayvarney/anaconda3/envs/rmv/lib/python3.11/site-packages/iris/analysis/cartography.py:413: UserWarning: Using DEFAULT_SPHERICAL_EARTH_RADIUS.\n",
      "  warnings.warn(\"Using DEFAULT_SPHERICAL_EARTH_RADIUS.\")\n",
      "/Users/rebeccamayvarney/anaconda3/envs/rmv/lib/python3.11/site-packages/iris/analysis/cartography.py:413: UserWarning: Using DEFAULT_SPHERICAL_EARTH_RADIUS.\n",
      "  warnings.warn(\"Using DEFAULT_SPHERICAL_EARTH_RADIUS.\")\n"
     ]
    },
    {
     "name": "stdout",
     "output_type": "stream",
     "text": [
      "4xCO2 T*=0 MIROC-ES2L 1.0958262865901398 -67.46276088690175\n",
      "MPI-ESM1-2-LR\n"
     ]
    },
    {
     "name": "stderr",
     "output_type": "stream",
     "text": [
      "/Users/rebeccamayvarney/anaconda3/envs/rmv/lib/python3.11/site-packages/iris/analysis/cartography.py:413: UserWarning: Using DEFAULT_SPHERICAL_EARTH_RADIUS.\n",
      "  warnings.warn(\"Using DEFAULT_SPHERICAL_EARTH_RADIUS.\")\n",
      "/Users/rebeccamayvarney/anaconda3/envs/rmv/lib/python3.11/site-packages/iris/analysis/cartography.py:413: UserWarning: Using DEFAULT_SPHERICAL_EARTH_RADIUS.\n",
      "  warnings.warn(\"Using DEFAULT_SPHERICAL_EARTH_RADIUS.\")\n",
      "/Users/rebeccamayvarney/anaconda3/envs/rmv/lib/python3.11/site-packages/iris/analysis/cartography.py:413: UserWarning: Using DEFAULT_SPHERICAL_EARTH_RADIUS.\n",
      "  warnings.warn(\"Using DEFAULT_SPHERICAL_EARTH_RADIUS.\")\n"
     ]
    },
    {
     "name": "stdout",
     "output_type": "stream",
     "text": [
      "4xCO2 T*=0 MPI-ESM1-2-LR 0.7068735807048021 -5.081364032472505\n",
      "NorESM2-LM\n"
     ]
    },
    {
     "name": "stderr",
     "output_type": "stream",
     "text": [
      "/Users/rebeccamayvarney/anaconda3/envs/rmv/lib/python3.11/site-packages/iris/analysis/cartography.py:413: UserWarning: Using DEFAULT_SPHERICAL_EARTH_RADIUS.\n",
      "  warnings.warn(\"Using DEFAULT_SPHERICAL_EARTH_RADIUS.\")\n",
      "/Users/rebeccamayvarney/anaconda3/envs/rmv/lib/python3.11/site-packages/iris/analysis/cartography.py:413: UserWarning: Using DEFAULT_SPHERICAL_EARTH_RADIUS.\n",
      "  warnings.warn(\"Using DEFAULT_SPHERICAL_EARTH_RADIUS.\")\n",
      "/Users/rebeccamayvarney/anaconda3/envs/rmv/lib/python3.11/site-packages/iris/analysis/cartography.py:413: UserWarning: Using DEFAULT_SPHERICAL_EARTH_RADIUS.\n",
      "  warnings.warn(\"Using DEFAULT_SPHERICAL_EARTH_RADIUS.\")\n"
     ]
    },
    {
     "name": "stdout",
     "output_type": "stream",
     "text": [
      "4xCO2 T*=0 NorESM2-LM 0.8397424630248027 -22.69075647502339\n",
      "UKESM1-0-LL\n"
     ]
    },
    {
     "name": "stderr",
     "output_type": "stream",
     "text": [
      "/Users/rebeccamayvarney/anaconda3/envs/rmv/lib/python3.11/site-packages/iris/analysis/cartography.py:413: UserWarning: Using DEFAULT_SPHERICAL_EARTH_RADIUS.\n",
      "  warnings.warn(\"Using DEFAULT_SPHERICAL_EARTH_RADIUS.\")\n",
      "/Users/rebeccamayvarney/anaconda3/envs/rmv/lib/python3.11/site-packages/iris/analysis/cartography.py:413: UserWarning: Using DEFAULT_SPHERICAL_EARTH_RADIUS.\n",
      "  warnings.warn(\"Using DEFAULT_SPHERICAL_EARTH_RADIUS.\")\n",
      "/Users/rebeccamayvarney/anaconda3/envs/rmv/lib/python3.11/site-packages/iris/analysis/cartography.py:413: UserWarning: Using DEFAULT_SPHERICAL_EARTH_RADIUS.\n",
      "  warnings.warn(\"Using DEFAULT_SPHERICAL_EARTH_RADIUS.\")\n",
      "/Users/rebeccamayvarney/anaconda3/envs/rmv/lib/python3.11/site-packages/iris/analysis/cartography.py:413: UserWarning: Using DEFAULT_SPHERICAL_EARTH_RADIUS.\n",
      "  warnings.warn(\"Using DEFAULT_SPHERICAL_EARTH_RADIUS.\")\n"
     ]
    },
    {
     "name": "stdout",
     "output_type": "stream",
     "text": [
      "4xCO2 T*=0 UKESM1-0-LL 0.7586053139963655 -36.84791947094609\n",
      "EC-Earth3-CC\n"
     ]
    },
    {
     "name": "stderr",
     "output_type": "stream",
     "text": [
      "/Users/rebeccamayvarney/anaconda3/envs/rmv/lib/python3.11/site-packages/iris/analysis/cartography.py:413: UserWarning: Using DEFAULT_SPHERICAL_EARTH_RADIUS.\n",
      "  warnings.warn(\"Using DEFAULT_SPHERICAL_EARTH_RADIUS.\")\n",
      "/Users/rebeccamayvarney/anaconda3/envs/rmv/lib/python3.11/site-packages/iris/analysis/cartography.py:413: UserWarning: Using DEFAULT_SPHERICAL_EARTH_RADIUS.\n",
      "  warnings.warn(\"Using DEFAULT_SPHERICAL_EARTH_RADIUS.\")\n",
      "/Users/rebeccamayvarney/anaconda3/envs/rmv/lib/python3.11/site-packages/iris/analysis/cartography.py:413: UserWarning: Using DEFAULT_SPHERICAL_EARTH_RADIUS.\n",
      "  warnings.warn(\"Using DEFAULT_SPHERICAL_EARTH_RADIUS.\")\n"
     ]
    },
    {
     "name": "stdout",
     "output_type": "stream",
     "text": [
      "4xCO2 T*=0 EC-Earth3-CC 0.5882431448420208 -6.569929226951377\n",
      "CMCC-ESM2\n"
     ]
    },
    {
     "name": "stderr",
     "output_type": "stream",
     "text": [
      "/Users/rebeccamayvarney/anaconda3/envs/rmv/lib/python3.11/site-packages/iris/analysis/cartography.py:413: UserWarning: Using DEFAULT_SPHERICAL_EARTH_RADIUS.\n",
      "  warnings.warn(\"Using DEFAULT_SPHERICAL_EARTH_RADIUS.\")\n",
      "/Users/rebeccamayvarney/anaconda3/envs/rmv/lib/python3.11/site-packages/iris/analysis/cartography.py:413: UserWarning: Using DEFAULT_SPHERICAL_EARTH_RADIUS.\n",
      "  warnings.warn(\"Using DEFAULT_SPHERICAL_EARTH_RADIUS.\")\n",
      "/Users/rebeccamayvarney/anaconda3/envs/rmv/lib/python3.11/site-packages/iris/analysis/cartography.py:413: UserWarning: Using DEFAULT_SPHERICAL_EARTH_RADIUS.\n",
      "  warnings.warn(\"Using DEFAULT_SPHERICAL_EARTH_RADIUS.\")\n"
     ]
    },
    {
     "name": "stdout",
     "output_type": "stream",
     "text": [
      "4xCO2 T*=0 CMCC-ESM2 0.35763383034645874 -15.637095056942927\n"
     ]
    }
   ],
   "source": [
    "### BGC-COU approach with T* = 0, carbon stocks (Arora et al., 2020)\n",
    "\n",
    "# CO2 array\n",
    "co2_array = np.zeros((150))\n",
    "for i in range(0, 150):\n",
    "        if i == 0:\n",
    "                co2_array[i] = 285\n",
    "        else:\n",
    "            co2_array[i] = co2_array[i-1]*1.01\n",
    "\n",
    "# C4MIP simulations: '1pctCO2' (COU), '1pctCO2-bgc' (BGC), '1pctCO2-rad' (RAD)\n",
    "\n",
    "# CMIP6 models\n",
    "cmip6_models = ['ACCESS-ESM1-5', 'BCC-CSM2-MR', 'CanESM5', 'CESM2', 'CNRM-ESM2-1', 'GFDL-ESM4', 'IPSL-CM6A-LR', 'MIROC-ES2L', 'MPI-ESM1-2-LR', 'NorESM2-LM', 'UKESM1-0-LL', 'EC-Earth3-CC', 'CMCC-ESM2']\n",
    "n_models = len(cmip6_models)\n",
    "\n",
    "cmip6_beta = np.zeros((len(cmip6_models)))\n",
    "cmip6_gamma = np.zeros((len(cmip6_models)))\n",
    "\n",
    "# CMIP6 models loop\n",
    "for model_i in range(n_models):\n",
    "        model = cmip6_models[model_i]\n",
    "        print(model)\n",
    "\n",
    "        # land fraction\n",
    "        if model == 'EC-Earth3-CC':\n",
    "                model_update = 'EC-Earth3'\n",
    "                landfraction = combine_netCDF_model('/Volumes/Extreme SSD/DATA/cmip6_data/sftlf_fx_'+model_update+'_historical*', model)\n",
    "        else:\n",
    "                landfraction = combine_netCDF_model('/Volumes/Extreme SSD/DATA/cmip6_data/sftlf_fx_'+model+'_historical*', model)\n",
    "\n",
    "\n",
    "        # BGC Land Carbon (cLand)\n",
    "        if model == 'UKESM1-0-LL':\n",
    "                # cVeg\n",
    "                cVeg_bgc_cube = combine_netCDF_cmip6('/Volumes/Extreme SSD/DATA/CMIP_1pctCO2-bgc/cVeg_Lmon_'+model+'_1pctCO2-bgc*', model)\n",
    "                cVeg_bgc_cube = open_netCDF(cVeg_bgc_cube)\n",
    "                cVeg_bgc_cube = annual_average(cVeg_bgc_cube)\n",
    "                cVeg_bgc_cube = global_total_percentage(cVeg_bgc_cube, landfrac=landfraction, latlon_cons=None)\n",
    "                cVeg_bgc_data = cVeg_bgc_cube.data\n",
    "                # cSoil\n",
    "                cSoil_bgc_cube = combine_netCDF_cmip6('/Volumes/Extreme SSD/DATA/CMIP_1pctCO2-bgc/cSoil_Emon_'+model+'_1pctCO2-bgc*', model)\n",
    "                cSoil_bgc_cube = open_netCDF(cSoil_bgc_cube)\n",
    "                cSoil_bgc_cube = annual_average(cSoil_bgc_cube)\n",
    "                cSoil_bgc_cube = global_total_percentage(cSoil_bgc_cube, landfrac=landfraction, latlon_cons=None)\n",
    "                cSoil_bgc_data = cSoil_bgc_cube.data\n",
    "                # \n",
    "                cLand_bgc_data = cVeg_bgc_data + cSoil_bgc_data\n",
    "        elif model == 'BCC-CSM2-MR' or model == 'MIROC-ES2L':\n",
    "                # cVeg\n",
    "                cVeg_bgc_cube = combine_netCDF_cmip6('/Volumes/Extreme SSD/DATA/CMIP_1pctCO2-bgc/cVeg_Lmon_'+model+'_1pctCO2-bgc*', model)\n",
    "                cVeg_bgc_cube = open_netCDF(cVeg_bgc_cube)\n",
    "                cVeg_bgc_cube = annual_average(cVeg_bgc_cube)\n",
    "                cVeg_bgc_cube = global_total_percentage(cVeg_bgc_cube, landfrac=landfraction, latlon_cons=None)\n",
    "                cVeg_bgc_data = cVeg_bgc_cube.data\n",
    "                # cSoil\n",
    "                cSoil_bgc_cube = combine_netCDF_cmip6('/Volumes/Extreme SSD/DATA/CMIP_1pctCO2-bgc/cSoil_Emon_'+model+'_1pctCO2-bgc*', model)\n",
    "                cSoil_bgc_cube = open_netCDF(cSoil_bgc_cube)\n",
    "                cSoil_bgc_cube = annual_average(cSoil_bgc_cube)\n",
    "                cSoil_bgc_cube = global_total_percentage(cSoil_bgc_cube, landfrac=landfraction, latlon_cons=None)\n",
    "                cSoil_bgc_data = cSoil_bgc_cube.data \n",
    "                # cLitter\n",
    "                cLitter_bgc_cube = combine_netCDF_cmip6('/Volumes/Extreme SSD/DATA/CMIP_1pctCO2-bgc/cLitter_Lmon_'+model+'_1pctCO2-bgc*', model)\n",
    "                cLitter_bgc_cube = open_netCDF(cLitter_bgc_cube)\n",
    "                cLitter_bgc_cube = annual_average(cLitter_bgc_cube)\n",
    "                cLitter_bgc_cube = global_total_percentage(cLitter_bgc_cube, landfrac=landfraction, latlon_cons=None)\n",
    "                cLitter_bgc_data = cLitter_bgc_cube.data\n",
    "                # \n",
    "                cLand_bgc_data = cVeg_bgc_data + cSoil_bgc_data + cLitter_bgc_data\n",
    "        else:\n",
    "                # cLand\n",
    "                cLand_bgc_cube = combine_netCDF_cmip6('/Volumes/Extreme SSD/DATA/CMIP_1pctCO2-bgc/cLand_Emon_'+model+'_1pctCO2-bgc*', model)\n",
    "                cLand_bgc_cube = open_netCDF(cLand_bgc_cube)\n",
    "                cLand_bgc_cube = annual_average(cLand_bgc_cube)\n",
    "                cLand_bgc_cube = global_total_percentage(cLand_bgc_cube, landfrac=landfraction, latlon_cons=None)\n",
    "                cLand_bgc_data = cLand_bgc_cube.data\n",
    "\n",
    "        # Time dimension\n",
    "        if model == 'ACCESS-ESM1-5':\n",
    "                time_dimension = cLand_bgc_cube.coord('year').points\n",
    "                time_dimension = time_dimension - 100\n",
    "\n",
    "        # COU Land Carbon (cLand)\n",
    "        if model == 'BCC-CSM2-MR':\n",
    "                # cVeg\n",
    "                cVeg_cou_cube = combine_netCDF_cmip6('/Volumes/Extreme SSD/DATA/CMIP_1pctCO2/cVeg_Lmon_'+model+'_1pctCO2*', model)\n",
    "                cVeg_cou_cube = open_netCDF(cVeg_cou_cube)\n",
    "                cVeg_cou_cube = annual_average(cVeg_cou_cube)\n",
    "                cVeg_cou_cube = global_total_percentage(cVeg_cou_cube, landfrac=landfraction, latlon_cons=None)\n",
    "                cVeg_cou_data = cVeg_cou_cube.data\n",
    "                # cSoil\n",
    "                cSoil_cou_cube = combine_netCDF_cmip6('/Volumes/Extreme SSD/DATA/CMIP_1pctCO2/cSoil_Emon_'+model+'_1pctCO2*', model)\n",
    "                cSoil_cou_cube = open_netCDF(cSoil_cou_cube)\n",
    "                cSoil_cou_cube = annual_average(cSoil_cou_cube)\n",
    "                cSoil_cou_cube = global_total_percentage(cSoil_cou_cube, landfrac=landfraction, latlon_cons=None)\n",
    "                cSoil_cou_data = cSoil_cou_cube.data \n",
    "                # cLitter\n",
    "                cLitter_cou_cube = combine_netCDF_cmip6('/Volumes/Extreme SSD/DATA/CMIP_1pctCO2/cLitter_Lmon_'+model+'_1pctCO2*', model)\n",
    "                cLitter_cou_cube = open_netCDF(cLitter_cou_cube)\n",
    "                cLitter_cou_cube = annual_average(cLitter_cou_cube)\n",
    "                cLitter_cou_cube = global_total_percentage(cLitter_cou_cube, landfrac=landfraction, latlon_cons=None)\n",
    "                cLitter_cou_data = cLitter_cou_cube.data\n",
    "                # \n",
    "                cLand_cou_data = cVeg_cou_data + cSoil_cou_data + cLitter_cou_data\n",
    "        else:\n",
    "                # cLand\n",
    "                cLand_cou_cube = combine_netCDF_cmip6('/Volumes/Extreme SSD/DATA/CMIP_1pctCO2/cLand_Emon_'+model+'_1pctCO2*', model)\n",
    "                cLand_cou_cube = open_netCDF(cLand_cou_cube)\n",
    "                cLand_cou_cube = annual_average(cLand_cou_cube)\n",
    "                cLand_cou_cube = global_total_percentage(cLand_cou_cube, landfrac=landfraction, latlon_cons=None)\n",
    "                cLand_cou_data = cLand_cou_cube.data\n",
    "\n",
    "        # Temperature (tas)\n",
    "        tas_cou_cube = combine_netCDF_cmip6('/Volumes/Extreme SSD/DATA/CMIP_1pctCO2/tas_Amon_'+model+'_1pctCO2*', model)\n",
    "        tas_cou_cube = open_netCDF(tas_cou_cube)\n",
    "        tas_cou_cube = annual_average(tas_cou_cube)\n",
    "        tas_cou_cube = area_average(tas_cou_cube - 273.15, [0, 360, -90,  90])\n",
    "        tas_cou_data = tas_cou_cube.data\n",
    "        tas_cou_data = centered_moving_average(tas_cou_data, 20)\n",
    "\n",
    "\n",
    "        # beta\n",
    "        dC_bgc = cLand_bgc_data[139] - cLand_bgc_data[0]\n",
    "        dCo2 = co2_array[139] - co2_array[0]\n",
    "        beta = dC_bgc/dCo2\n",
    "\n",
    "        # gamma\n",
    "        dC_cou = cLand_cou_data[139] - cLand_cou_data[0]\n",
    "        dT_cou = tas_cou_data[130] - tas_cou_data[0]\n",
    "        dC_res = dC_cou - dC_bgc\n",
    "        gamma = dC_res/dT_cou\n",
    "\n",
    "        print('4xCO2 T*=0', model, beta, gamma)\n",
    "\n",
    "        # saving\n",
    "        cmip6_beta[model_i] = beta\n",
    "        cmip6_gamma[model_i] = gamma\n",
    "        np.save('saved_data/cmip6_beta_4xCO2.npy', cmip6_beta.data)\n",
    "        np.save('saved_data/cmip6_gamma_4xCO2.npy', cmip6_gamma.data)\n",
    "\n",
    "        np.save('saved_data/cmip6_'+model+'_T_COU.npy', tas_cou_data.data)\n",
    "        np.save('saved_data/cmip6_'+model+'_co2.npy', co2_array.data)\n",
    "        np.save('saved_data/cmip6_'+model+'_cLand_COU.npy', cLand_cou_data.data)\n",
    "        np.save('saved_data/cmip6_'+model+'_cLand_BGC.npy', cLand_bgc_data.data)\n",
    "        np.save('saved_data/cmip6_timedimension.npy', time_dimension.data)\n",
    "\n"
   ]
  },
  {
   "cell_type": "code",
   "execution_count": 21,
   "id": "664e2ae7",
   "metadata": {},
   "outputs": [
    {
     "name": "stdout",
     "output_type": "stream",
     "text": [
      "ACCESS-ESM1-5\n"
     ]
    },
    {
     "name": "stderr",
     "output_type": "stream",
     "text": [
      "/Users/rebeccamayvarney/anaconda3/envs/rmv/lib/python3.11/site-packages/iris/analysis/cartography.py:413: UserWarning: Using DEFAULT_SPHERICAL_EARTH_RADIUS.\n",
      "  warnings.warn(\"Using DEFAULT_SPHERICAL_EARTH_RADIUS.\")\n",
      "/Users/rebeccamayvarney/anaconda3/envs/rmv/lib/python3.11/site-packages/iris/analysis/cartography.py:413: UserWarning: Using DEFAULT_SPHERICAL_EARTH_RADIUS.\n",
      "  warnings.warn(\"Using DEFAULT_SPHERICAL_EARTH_RADIUS.\")\n",
      "/Users/rebeccamayvarney/anaconda3/envs/rmv/lib/python3.11/site-packages/iris/analysis/cartography.py:413: UserWarning: Using DEFAULT_SPHERICAL_EARTH_RADIUS.\n",
      "  warnings.warn(\"Using DEFAULT_SPHERICAL_EARTH_RADIUS.\")\n"
     ]
    },
    {
     "name": "stdout",
     "output_type": "stream",
     "text": [
      "4xCO2 T*=0 ACCESS-ESM1-5 0.4260115887949936 -25.19498580729519\n",
      "BCC-CSM2-MR\n"
     ]
    },
    {
     "name": "stderr",
     "output_type": "stream",
     "text": [
      "/Users/rebeccamayvarney/anaconda3/envs/rmv/lib/python3.11/site-packages/iris/analysis/cartography.py:413: UserWarning: Using DEFAULT_SPHERICAL_EARTH_RADIUS.\n",
      "  warnings.warn(\"Using DEFAULT_SPHERICAL_EARTH_RADIUS.\")\n",
      "/Users/rebeccamayvarney/anaconda3/envs/rmv/lib/python3.11/site-packages/iris/analysis/cartography.py:413: UserWarning: Using DEFAULT_SPHERICAL_EARTH_RADIUS.\n",
      "  warnings.warn(\"Using DEFAULT_SPHERICAL_EARTH_RADIUS.\")\n",
      "/Users/rebeccamayvarney/anaconda3/envs/rmv/lib/python3.11/site-packages/iris/analysis/cartography.py:413: UserWarning: Using DEFAULT_SPHERICAL_EARTH_RADIUS.\n",
      "  warnings.warn(\"Using DEFAULT_SPHERICAL_EARTH_RADIUS.\")\n"
     ]
    },
    {
     "name": "stdout",
     "output_type": "stream",
     "text": [
      "4xCO2 T*=0 BCC-CSM2-MR 0.4260115887949936 -26.886205037404295\n",
      "CanESM5\n"
     ]
    },
    {
     "name": "stderr",
     "output_type": "stream",
     "text": [
      "/Users/rebeccamayvarney/anaconda3/envs/rmv/lib/python3.11/site-packages/iris/analysis/cartography.py:413: UserWarning: Using DEFAULT_SPHERICAL_EARTH_RADIUS.\n",
      "  warnings.warn(\"Using DEFAULT_SPHERICAL_EARTH_RADIUS.\")\n",
      "/Users/rebeccamayvarney/anaconda3/envs/rmv/lib/python3.11/site-packages/iris/analysis/cartography.py:413: UserWarning: Using DEFAULT_SPHERICAL_EARTH_RADIUS.\n",
      "  warnings.warn(\"Using DEFAULT_SPHERICAL_EARTH_RADIUS.\")\n",
      "/Users/rebeccamayvarney/anaconda3/envs/rmv/lib/python3.11/site-packages/iris/analysis/cartography.py:413: UserWarning: Using DEFAULT_SPHERICAL_EARTH_RADIUS.\n",
      "  warnings.warn(\"Using DEFAULT_SPHERICAL_EARTH_RADIUS.\")\n"
     ]
    },
    {
     "name": "stdout",
     "output_type": "stream",
     "text": [
      "4xCO2 T*=0 CanESM5 0.4260115887949936 -16.728642755822584\n",
      "CESM2\n"
     ]
    },
    {
     "name": "stderr",
     "output_type": "stream",
     "text": [
      "/Users/rebeccamayvarney/anaconda3/envs/rmv/lib/python3.11/site-packages/iris/analysis/cartography.py:413: UserWarning: Using DEFAULT_SPHERICAL_EARTH_RADIUS.\n",
      "  warnings.warn(\"Using DEFAULT_SPHERICAL_EARTH_RADIUS.\")\n",
      "/Users/rebeccamayvarney/anaconda3/envs/rmv/lib/python3.11/site-packages/iris/analysis/cartography.py:413: UserWarning: Using DEFAULT_SPHERICAL_EARTH_RADIUS.\n",
      "  warnings.warn(\"Using DEFAULT_SPHERICAL_EARTH_RADIUS.\")\n",
      "/Users/rebeccamayvarney/anaconda3/envs/rmv/lib/python3.11/site-packages/iris/analysis/cartography.py:413: UserWarning: Using DEFAULT_SPHERICAL_EARTH_RADIUS.\n",
      "  warnings.warn(\"Using DEFAULT_SPHERICAL_EARTH_RADIUS.\")\n"
     ]
    },
    {
     "name": "stdout",
     "output_type": "stream",
     "text": [
      "4xCO2 T*=0 CESM2 0.4260115887949936 -20.824922829076264\n",
      "CNRM-ESM2-1\n"
     ]
    },
    {
     "name": "stderr",
     "output_type": "stream",
     "text": [
      "/Users/rebeccamayvarney/anaconda3/envs/rmv/lib/python3.11/site-packages/iris/analysis/cartography.py:413: UserWarning: Using DEFAULT_SPHERICAL_EARTH_RADIUS.\n",
      "  warnings.warn(\"Using DEFAULT_SPHERICAL_EARTH_RADIUS.\")\n",
      "/Users/rebeccamayvarney/anaconda3/envs/rmv/lib/python3.11/site-packages/iris/analysis/cartography.py:413: UserWarning: Using DEFAULT_SPHERICAL_EARTH_RADIUS.\n",
      "  warnings.warn(\"Using DEFAULT_SPHERICAL_EARTH_RADIUS.\")\n",
      "/Users/rebeccamayvarney/anaconda3/envs/rmv/lib/python3.11/site-packages/iris/analysis/cartography.py:413: UserWarning: Using DEFAULT_SPHERICAL_EARTH_RADIUS.\n",
      "  warnings.warn(\"Using DEFAULT_SPHERICAL_EARTH_RADIUS.\")\n"
     ]
    },
    {
     "name": "stdout",
     "output_type": "stream",
     "text": [
      "4xCO2 T*=0 CNRM-ESM2-1 0.4260115887949936 -21.525743409461835\n",
      "GFDL-ESM4\n"
     ]
    },
    {
     "name": "stderr",
     "output_type": "stream",
     "text": [
      "/Users/rebeccamayvarney/anaconda3/envs/rmv/lib/python3.11/site-packages/iris/analysis/cartography.py:413: UserWarning: Using DEFAULT_SPHERICAL_EARTH_RADIUS.\n",
      "  warnings.warn(\"Using DEFAULT_SPHERICAL_EARTH_RADIUS.\")\n",
      "/Users/rebeccamayvarney/anaconda3/envs/rmv/lib/python3.11/site-packages/iris/analysis/cartography.py:413: UserWarning: Using DEFAULT_SPHERICAL_EARTH_RADIUS.\n",
      "  warnings.warn(\"Using DEFAULT_SPHERICAL_EARTH_RADIUS.\")\n",
      "/Users/rebeccamayvarney/anaconda3/envs/rmv/lib/python3.11/site-packages/iris/analysis/cartography.py:413: UserWarning: Using DEFAULT_SPHERICAL_EARTH_RADIUS.\n",
      "  warnings.warn(\"Using DEFAULT_SPHERICAL_EARTH_RADIUS.\")\n"
     ]
    },
    {
     "name": "stdout",
     "output_type": "stream",
     "text": [
      "4xCO2 T*=0 GFDL-ESM4 0.4260115887949936 -29.486099774798497\n",
      "IPSL-CM6A-LR\n"
     ]
    },
    {
     "name": "stderr",
     "output_type": "stream",
     "text": [
      "/Users/rebeccamayvarney/anaconda3/envs/rmv/lib/python3.11/site-packages/iris/analysis/cartography.py:413: UserWarning: Using DEFAULT_SPHERICAL_EARTH_RADIUS.\n",
      "  warnings.warn(\"Using DEFAULT_SPHERICAL_EARTH_RADIUS.\")\n",
      "/Users/rebeccamayvarney/anaconda3/envs/rmv/lib/python3.11/site-packages/iris/analysis/cartography.py:413: UserWarning: Using DEFAULT_SPHERICAL_EARTH_RADIUS.\n",
      "  warnings.warn(\"Using DEFAULT_SPHERICAL_EARTH_RADIUS.\")\n",
      "/Users/rebeccamayvarney/anaconda3/envs/rmv/lib/python3.11/site-packages/iris/analysis/cartography.py:413: UserWarning: Using DEFAULT_SPHERICAL_EARTH_RADIUS.\n",
      "  warnings.warn(\"Using DEFAULT_SPHERICAL_EARTH_RADIUS.\")\n"
     ]
    },
    {
     "name": "stdout",
     "output_type": "stream",
     "text": [
      "4xCO2 T*=0 IPSL-CM6A-LR 0.4260115887949936 -19.543005860242722\n",
      "MIROC-ES2L\n"
     ]
    },
    {
     "name": "stderr",
     "output_type": "stream",
     "text": [
      "/Users/rebeccamayvarney/anaconda3/envs/rmv/lib/python3.11/site-packages/iris/analysis/cartography.py:413: UserWarning: Using DEFAULT_SPHERICAL_EARTH_RADIUS.\n",
      "  warnings.warn(\"Using DEFAULT_SPHERICAL_EARTH_RADIUS.\")\n",
      "/Users/rebeccamayvarney/anaconda3/envs/rmv/lib/python3.11/site-packages/iris/analysis/cartography.py:413: UserWarning: Using DEFAULT_SPHERICAL_EARTH_RADIUS.\n",
      "  warnings.warn(\"Using DEFAULT_SPHERICAL_EARTH_RADIUS.\")\n",
      "/Users/rebeccamayvarney/anaconda3/envs/rmv/lib/python3.11/site-packages/iris/analysis/cartography.py:413: UserWarning: Using DEFAULT_SPHERICAL_EARTH_RADIUS.\n",
      "  warnings.warn(\"Using DEFAULT_SPHERICAL_EARTH_RADIUS.\")\n"
     ]
    },
    {
     "name": "stdout",
     "output_type": "stream",
     "text": [
      "4xCO2 T*=0 MIROC-ES2L 0.4260115887949936 -29.98712366894815\n",
      "MPI-ESM1-2-LR\n"
     ]
    },
    {
     "name": "stderr",
     "output_type": "stream",
     "text": [
      "/Users/rebeccamayvarney/anaconda3/envs/rmv/lib/python3.11/site-packages/iris/analysis/cartography.py:413: UserWarning: Using DEFAULT_SPHERICAL_EARTH_RADIUS.\n",
      "  warnings.warn(\"Using DEFAULT_SPHERICAL_EARTH_RADIUS.\")\n",
      "/Users/rebeccamayvarney/anaconda3/envs/rmv/lib/python3.11/site-packages/iris/analysis/cartography.py:413: UserWarning: Using DEFAULT_SPHERICAL_EARTH_RADIUS.\n",
      "  warnings.warn(\"Using DEFAULT_SPHERICAL_EARTH_RADIUS.\")\n",
      "/Users/rebeccamayvarney/anaconda3/envs/rmv/lib/python3.11/site-packages/iris/analysis/cartography.py:413: UserWarning: Using DEFAULT_SPHERICAL_EARTH_RADIUS.\n",
      "  warnings.warn(\"Using DEFAULT_SPHERICAL_EARTH_RADIUS.\")\n"
     ]
    },
    {
     "name": "stdout",
     "output_type": "stream",
     "text": [
      "4xCO2 T*=0 MPI-ESM1-2-LR 0.4260115887949936 -23.34335169683401\n",
      "NorESM2-LM\n"
     ]
    },
    {
     "name": "stderr",
     "output_type": "stream",
     "text": [
      "/Users/rebeccamayvarney/anaconda3/envs/rmv/lib/python3.11/site-packages/iris/analysis/cartography.py:413: UserWarning: Using DEFAULT_SPHERICAL_EARTH_RADIUS.\n",
      "  warnings.warn(\"Using DEFAULT_SPHERICAL_EARTH_RADIUS.\")\n",
      "/Users/rebeccamayvarney/anaconda3/envs/rmv/lib/python3.11/site-packages/iris/analysis/cartography.py:413: UserWarning: Using DEFAULT_SPHERICAL_EARTH_RADIUS.\n",
      "  warnings.warn(\"Using DEFAULT_SPHERICAL_EARTH_RADIUS.\")\n",
      "/Users/rebeccamayvarney/anaconda3/envs/rmv/lib/python3.11/site-packages/iris/analysis/cartography.py:413: UserWarning: Using DEFAULT_SPHERICAL_EARTH_RADIUS.\n",
      "  warnings.warn(\"Using DEFAULT_SPHERICAL_EARTH_RADIUS.\")\n"
     ]
    },
    {
     "name": "stdout",
     "output_type": "stream",
     "text": [
      "4xCO2 T*=0 NorESM2-LM 0.4260115887949936 -32.69440047766452\n",
      "UKESM1-0-LL\n"
     ]
    },
    {
     "name": "stderr",
     "output_type": "stream",
     "text": [
      "/Users/rebeccamayvarney/anaconda3/envs/rmv/lib/python3.11/site-packages/iris/analysis/cartography.py:413: UserWarning: Using DEFAULT_SPHERICAL_EARTH_RADIUS.\n",
      "  warnings.warn(\"Using DEFAULT_SPHERICAL_EARTH_RADIUS.\")\n",
      "/Users/rebeccamayvarney/anaconda3/envs/rmv/lib/python3.11/site-packages/iris/analysis/cartography.py:413: UserWarning: Using DEFAULT_SPHERICAL_EARTH_RADIUS.\n",
      "  warnings.warn(\"Using DEFAULT_SPHERICAL_EARTH_RADIUS.\")\n",
      "/Users/rebeccamayvarney/anaconda3/envs/rmv/lib/python3.11/site-packages/iris/analysis/cartography.py:413: UserWarning: Using DEFAULT_SPHERICAL_EARTH_RADIUS.\n",
      "  warnings.warn(\"Using DEFAULT_SPHERICAL_EARTH_RADIUS.\")\n"
     ]
    },
    {
     "name": "stdout",
     "output_type": "stream",
     "text": [
      "4xCO2 T*=0 UKESM1-0-LL 0.4260115887949936 -17.48217787220245\n",
      "EC-Earth3-CC\n"
     ]
    },
    {
     "name": "stderr",
     "output_type": "stream",
     "text": [
      "/Users/rebeccamayvarney/anaconda3/envs/rmv/lib/python3.11/site-packages/iris/analysis/cartography.py:413: UserWarning: Using DEFAULT_SPHERICAL_EARTH_RADIUS.\n",
      "  warnings.warn(\"Using DEFAULT_SPHERICAL_EARTH_RADIUS.\")\n",
      "/Users/rebeccamayvarney/anaconda3/envs/rmv/lib/python3.11/site-packages/iris/analysis/cartography.py:413: UserWarning: Using DEFAULT_SPHERICAL_EARTH_RADIUS.\n",
      "  warnings.warn(\"Using DEFAULT_SPHERICAL_EARTH_RADIUS.\")\n",
      "/Users/rebeccamayvarney/anaconda3/envs/rmv/lib/python3.11/site-packages/iris/analysis/cartography.py:413: UserWarning: Using DEFAULT_SPHERICAL_EARTH_RADIUS.\n",
      "  warnings.warn(\"Using DEFAULT_SPHERICAL_EARTH_RADIUS.\")\n"
     ]
    },
    {
     "name": "stdout",
     "output_type": "stream",
     "text": [
      "4xCO2 T*=0 EC-Earth3-CC 0.4260115887949936 -17.70812058198732\n",
      "CMCC-ESM2\n"
     ]
    },
    {
     "name": "stderr",
     "output_type": "stream",
     "text": [
      "/Users/rebeccamayvarney/anaconda3/envs/rmv/lib/python3.11/site-packages/iris/analysis/cartography.py:413: UserWarning: Using DEFAULT_SPHERICAL_EARTH_RADIUS.\n",
      "  warnings.warn(\"Using DEFAULT_SPHERICAL_EARTH_RADIUS.\")\n",
      "/Users/rebeccamayvarney/anaconda3/envs/rmv/lib/python3.11/site-packages/iris/analysis/cartography.py:413: UserWarning: Using DEFAULT_SPHERICAL_EARTH_RADIUS.\n",
      "  warnings.warn(\"Using DEFAULT_SPHERICAL_EARTH_RADIUS.\")\n",
      "/Users/rebeccamayvarney/anaconda3/envs/rmv/lib/python3.11/site-packages/iris/analysis/cartography.py:413: UserWarning: Using DEFAULT_SPHERICAL_EARTH_RADIUS.\n",
      "  warnings.warn(\"Using DEFAULT_SPHERICAL_EARTH_RADIUS.\")\n"
     ]
    },
    {
     "name": "stdout",
     "output_type": "stream",
     "text": [
      "4xCO2 T*=0 CMCC-ESM2 0.4260115887949936 -19.496748539124376\n"
     ]
    }
   ],
   "source": [
    "### BGC-COU approach with T* = 0, carbon fluxes (Arora et al., 2020)\n",
    "\n",
    "# CO2 array\n",
    "co2_array = np.zeros((140))\n",
    "for i in range(0, 140):\n",
    "        if i == 0:\n",
    "                co2_array[i] = 285\n",
    "        else:\n",
    "            co2_array[i] = co2_array[i-1]*1.01\n",
    "\n",
    "# C4MIP simulations: '1pctCO2' (COU), '1pctCO2-bgc' (BGC), '1pctCO2-rad' (RAD)\n",
    "\n",
    "# CMIP6 models\n",
    "cmip6_models = ['ACCESS-ESM1-5', 'BCC-CSM2-MR', 'CanESM5', 'CESM2', 'CNRM-ESM2-1', 'GFDL-ESM4', 'IPSL-CM6A-LR', 'MIROC-ES2L', 'MPI-ESM1-2-LR', 'NorESM2-LM', 'UKESM1-0-LL', 'EC-Earth3-CC', 'CMCC-ESM2']\n",
    "n_models = len(cmip6_models)\n",
    "\n",
    "cmip6_beta = np.zeros((len(cmip6_models)))\n",
    "cmip6_gamma = np.zeros((len(cmip6_models)))\n",
    "\n",
    "# CMIP6 models loop\n",
    "for model_i in range(n_models):\n",
    "        model = cmip6_models[model_i]\n",
    "        print(model)\n",
    "\n",
    "        # land fraction\n",
    "        if model == 'EC-Earth3-CC':\n",
    "                model_update = 'EC-Earth3'\n",
    "                landfraction = combine_netCDF_model('/Volumes/Extreme SSD/DATA/cmip6_data/sftlf_fx_'+model_update+'_historical*', model)\n",
    "        else:\n",
    "                landfraction = combine_netCDF_model('/Volumes/Extreme SSD/DATA/cmip6_data/sftlf_fx_'+model+'_historical*', model)\n",
    "\n",
    "        # BGC fluxes\n",
    "        if model == 'BCC-CSM2-MR':\n",
    "                # nep\n",
    "                flux_bgc_cube = combine_netCDF_cmip6('/Volumes/Extreme SSD/DATA/CMIP_1pctCO2-bgc/nep_Emon_'+model+'_1pctCO2-bgc*', model)\n",
    "                flux_bgc_cube = open_netCDF(flux_bgc_cube)\n",
    "                flux_bgc_cube = annual_average(flux_bgc_cube)\n",
    "                flux_bgc_cube = global_total_percentage(flux_bgc_cube, landfrac=landfraction, latlon_cons=None)\n",
    "                flux_bgc_data = flux_bgc_cube.data\n",
    "        elif model == 'CanESM5' or model == 'CNRM-ESM2-1' or model == 'UKESM1-0-LL' or model == 'CMCC-ESM2':\n",
    "                # netAtmosLandCO2Flux\n",
    "                flux_bgc_cube = combine_netCDF_cmip6('/Volumes/Extreme SSD/DATA/CMIP_1pctCO2-bgc/netAtmosLandCO2Flux_Emon_'+model+'_1pctCO2-bgc*', model)\n",
    "                flux_bgc_cube = open_netCDF(flux_bgc_cube)\n",
    "                flux_bgc_cube = annual_average(flux_bgc_cube)\n",
    "                flux_bgc_cube = global_total_percentage(flux_bgc_cube, landfrac=landfraction, latlon_cons=None)\n",
    "                flux_bgc_data = flux_bgc_cube.data\n",
    "        else:\n",
    "                # nbp\n",
    "                flux_bgc_cube = combine_netCDF_cmip6('/Volumes/Extreme SSD/DATA/CMIP_1pctCO2-bgc/nbp_Lmon_'+model+'_1pctCO2-bgc*', model)\n",
    "                flux_bgc_cube = open_netCDF(flux_bgc_cube)\n",
    "                flux_bgc_cube = annual_average(flux_bgc_cube)\n",
    "                flux_bgc_cube = global_total_percentage(flux_bgc_cube, landfrac=landfraction, latlon_cons=None)\n",
    "                flux_bgc_data = flux_bgc_cube.data\n",
    "\n",
    "\n",
    "        # COU fluxes\n",
    "        if model == 'BCC-CSM2-MR':\n",
    "                # nep\n",
    "                flux_bgc_cube = combine_netCDF_cmip6('/Volumes/Extreme SSD/DATA/CMIP_1pctCO2/nep_Emon_'+model+'_1pctCO2*', model)\n",
    "                flux_bgc_cube = open_netCDF(flux_bgc_cube)\n",
    "                flux_bgc_cube = annual_average(flux_bgc_cube)\n",
    "                flux_bgc_cube = global_total_percentage(flux_bgc_cube, landfrac=landfraction, latlon_cons=None)\n",
    "                flux_bgc_data = flux_bgc_cube.data\n",
    "        elif model == 'CNRM-ESM2-1' or model == 'EC-Earth3-CC':\n",
    "                # netAtmosLandCO2Flux\n",
    "                flux_bgc_cube = combine_netCDF_cmip6('/Volumes/Extreme SSD/DATA/CMIP_1pctCO2/netAtmosLandCO2Flux_Emon_'+model+'_1pctCO2*', model)\n",
    "                flux_bgc_cube = open_netCDF(flux_bgc_cube)\n",
    "                flux_bgc_cube = annual_average(flux_bgc_cube)\n",
    "                flux_bgc_cube = global_total_percentage(flux_bgc_cube, landfrac=landfraction, latlon_cons=None)\n",
    "                flux_bgc_data = flux_bgc_cube.data\n",
    "        else:\n",
    "                # nbp\n",
    "                flux_bgc_cube = combine_netCDF_cmip6('/Volumes/Extreme SSD/DATA/CMIP_1pctCO2/nbp_Lmon_'+model+'_1pctCO2*', model)\n",
    "                flux_bgc_cube = open_netCDF(flux_bgc_cube)\n",
    "                flux_bgc_cube = annual_average(flux_bgc_cube)\n",
    "                flux_bgc_cube = global_total_percentage(flux_bgc_cube, landfrac=landfraction, latlon_cons=None)\n",
    "                flux_bgc_data = flux_bgc_cube.data\n",
    "\n",
    "        # Temperature (tas)\n",
    "        tas_cou_cube = combine_netCDF_cmip6('/Volumes/Extreme SSD/DATA/CMIP_1pctCO2/tas_Amon_'+model+'_1pctCO2*', model)\n",
    "        tas_cou_cube = open_netCDF(tas_cou_cube)\n",
    "        tas_cou_cube = annual_average(tas_cou_cube)\n",
    "        tas_cou_cube = area_average(tas_cou_cube - 273.15, [0, 360, -90,  90])\n",
    "        tas_cou_data = tas_cou_cube.data\n",
    "        tas_cou_data = centered_moving_average(tas_cou_data, 20)\n",
    "\n",
    "\n",
    "        # beta\n",
    "        dC_bgc = cLand_bgc_data[-1] - cLand_bgc_data[0]\n",
    "        dCo2 = co2_array[-1] - co2_array[0]\n",
    "        beta = dC_bgc/dCo2\n",
    "\n",
    "        # gamma\n",
    "        dC_cou = cLand_cou_data[-1] - cLand_cou_data[0]\n",
    "        dT_cou = tas_cou_data[-1] - tas_cou_data[0]\n",
    "        dC_res = dC_cou - dC_bgc\n",
    "        gamma = dC_res/dT_cou\n",
    "\n",
    "        print('4xCO2 T*=0', model, beta, gamma)\n",
    "\n",
    "        # saving\n",
    "        cmip6_beta[model_i] = beta\n",
    "        cmip6_gamma[model_i] = gamma\n",
    "        np.save('saved_data/cmip6_beta_4xCO2_flux.npy', cmip6_beta.data)\n",
    "        np.save('saved_data/cmip6_gamma_4xCO2_flux.npy', cmip6_gamma.data)\n",
    "        "
   ]
  },
  {
   "cell_type": "code",
   "execution_count": 22,
   "id": "b101d148",
   "metadata": {},
   "outputs": [
    {
     "name": "stdout",
     "output_type": "stream",
     "text": [
      "ACCESS-ESM1-5\n"
     ]
    },
    {
     "ename": "FileNotFoundError",
     "evalue": "/Volumes/Extreme SSD/data/c4mip_cmip6_ascii_files_11_models/ACCESS-ESM1-5/ACCESS-ESM1-5_1pc_COU.txt not found.",
     "output_type": "error",
     "traceback": [
      "\u001b[31m---------------------------------------------------------------------------\u001b[39m",
      "\u001b[31mFileNotFoundError\u001b[39m                         Traceback (most recent call last)",
      "\u001b[36mCell\u001b[39m\u001b[36m \u001b[39m\u001b[32mIn[22]\u001b[39m\u001b[32m, line 12\u001b[39m\n\u001b[32m      9\u001b[39m model = arora_models[model_j]\n\u001b[32m     10\u001b[39m \u001b[38;5;28mprint\u001b[39m(model)\n\u001b[32m---> \u001b[39m\u001b[32m12\u001b[39m cou_data = \u001b[43mnp\u001b[49m\u001b[43m.\u001b[49m\u001b[43mgenfromtxt\u001b[49m\u001b[43m(\u001b[49m\u001b[33;43m'\u001b[39;49m\u001b[33;43m/Volumes/Extreme SSD/data/c4mip_cmip6_ascii_files_11_models/\u001b[39;49m\u001b[33;43m'\u001b[39;49m\u001b[43m+\u001b[49m\u001b[43mmodel\u001b[49m\u001b[43m+\u001b[49m\u001b[33;43m'\u001b[39;49m\u001b[33;43m/\u001b[39;49m\u001b[33;43m'\u001b[39;49m\u001b[43m+\u001b[49m\u001b[43mmodel\u001b[49m\u001b[43m+\u001b[49m\u001b[33;43m'\u001b[39;49m\u001b[33;43m_1pc_COU.txt\u001b[39;49m\u001b[33;43m'\u001b[39;49m\u001b[43m,\u001b[49m\u001b[43m \u001b[49m\u001b[43mnames\u001b[49m\u001b[43m=\u001b[49m\u001b[38;5;28;43;01mTrue\u001b[39;49;00m\u001b[43m,\u001b[49m\u001b[43m \u001b[49m\u001b[43mdtype\u001b[49m\u001b[43m=\u001b[49m\u001b[38;5;28;43;01mNone\u001b[39;49;00m\u001b[43m,\u001b[49m\u001b[43m \u001b[49m\u001b[43mencoding\u001b[49m\u001b[43m=\u001b[49m\u001b[38;5;28;43;01mNone\u001b[39;49;00m\u001b[43m)\u001b[49m\n\u001b[32m     13\u001b[39m bgc_data = np.genfromtxt(\u001b[33m'\u001b[39m\u001b[33m/Volumes/Extreme SSD/data/c4mip_cmip6_ascii_files_11_models/\u001b[39m\u001b[33m'\u001b[39m+model+\u001b[33m'\u001b[39m\u001b[33m/\u001b[39m\u001b[33m'\u001b[39m+model+\u001b[33m'\u001b[39m\u001b[33m_1pc_BGC.txt\u001b[39m\u001b[33m'\u001b[39m, names=\u001b[38;5;28;01mTrue\u001b[39;00m, dtype=\u001b[38;5;28;01mNone\u001b[39;00m, encoding=\u001b[38;5;28;01mNone\u001b[39;00m)\n\u001b[32m     15\u001b[39m arora_st_cou = cou_data[\u001b[33m'\u001b[39m\u001b[33mST\u001b[39m\u001b[33m'\u001b[39m]\n",
      "\u001b[36mFile \u001b[39m\u001b[32m~/anaconda3/envs/rmv/lib/python3.11/site-packages/numpy/lib/npyio.py:1980\u001b[39m, in \u001b[36mgenfromtxt\u001b[39m\u001b[34m(fname, dtype, comments, delimiter, skip_header, skip_footer, converters, missing_values, filling_values, usecols, names, excludelist, deletechars, replace_space, autostrip, case_sensitive, defaultfmt, unpack, usemask, loose, invalid_raise, max_rows, encoding, ndmin, like)\u001b[39m\n\u001b[32m   1978\u001b[39m     fname = os_fspath(fname)\n\u001b[32m   1979\u001b[39m \u001b[38;5;28;01mif\u001b[39;00m \u001b[38;5;28misinstance\u001b[39m(fname, \u001b[38;5;28mstr\u001b[39m):\n\u001b[32m-> \u001b[39m\u001b[32m1980\u001b[39m     fid = \u001b[43mnp\u001b[49m\u001b[43m.\u001b[49m\u001b[43mlib\u001b[49m\u001b[43m.\u001b[49m\u001b[43m_datasource\u001b[49m\u001b[43m.\u001b[49m\u001b[43mopen\u001b[49m\u001b[43m(\u001b[49m\u001b[43mfname\u001b[49m\u001b[43m,\u001b[49m\u001b[43m \u001b[49m\u001b[33;43m'\u001b[39;49m\u001b[33;43mrt\u001b[39;49m\u001b[33;43m'\u001b[39;49m\u001b[43m,\u001b[49m\u001b[43m \u001b[49m\u001b[43mencoding\u001b[49m\u001b[43m=\u001b[49m\u001b[43mencoding\u001b[49m\u001b[43m)\u001b[49m\n\u001b[32m   1981\u001b[39m     fid_ctx = contextlib.closing(fid)\n\u001b[32m   1982\u001b[39m \u001b[38;5;28;01melse\u001b[39;00m:\n",
      "\u001b[36mFile \u001b[39m\u001b[32m~/anaconda3/envs/rmv/lib/python3.11/site-packages/numpy/lib/_datasource.py:193\u001b[39m, in \u001b[36mopen\u001b[39m\u001b[34m(path, mode, destpath, encoding, newline)\u001b[39m\n\u001b[32m    156\u001b[39m \u001b[38;5;250m\u001b[39m\u001b[33;03m\"\"\"\u001b[39;00m\n\u001b[32m    157\u001b[39m \u001b[33;03mOpen `path` with `mode` and return the file object.\u001b[39;00m\n\u001b[32m    158\u001b[39m \n\u001b[32m   (...)\u001b[39m\u001b[32m    189\u001b[39m \n\u001b[32m    190\u001b[39m \u001b[33;03m\"\"\"\u001b[39;00m\n\u001b[32m    192\u001b[39m ds = DataSource(destpath)\n\u001b[32m--> \u001b[39m\u001b[32m193\u001b[39m \u001b[38;5;28;01mreturn\u001b[39;00m \u001b[43mds\u001b[49m\u001b[43m.\u001b[49m\u001b[43mopen\u001b[49m\u001b[43m(\u001b[49m\u001b[43mpath\u001b[49m\u001b[43m,\u001b[49m\u001b[43m \u001b[49m\u001b[43mmode\u001b[49m\u001b[43m,\u001b[49m\u001b[43m \u001b[49m\u001b[43mencoding\u001b[49m\u001b[43m=\u001b[49m\u001b[43mencoding\u001b[49m\u001b[43m,\u001b[49m\u001b[43m \u001b[49m\u001b[43mnewline\u001b[49m\u001b[43m=\u001b[49m\u001b[43mnewline\u001b[49m\u001b[43m)\u001b[49m\n",
      "\u001b[36mFile \u001b[39m\u001b[32m~/anaconda3/envs/rmv/lib/python3.11/site-packages/numpy/lib/_datasource.py:533\u001b[39m, in \u001b[36mDataSource.open\u001b[39m\u001b[34m(self, path, mode, encoding, newline)\u001b[39m\n\u001b[32m    530\u001b[39m     \u001b[38;5;28;01mreturn\u001b[39;00m _file_openers[ext](found, mode=mode,\n\u001b[32m    531\u001b[39m                               encoding=encoding, newline=newline)\n\u001b[32m    532\u001b[39m \u001b[38;5;28;01melse\u001b[39;00m:\n\u001b[32m--> \u001b[39m\u001b[32m533\u001b[39m     \u001b[38;5;28;01mraise\u001b[39;00m \u001b[38;5;167;01mFileNotFoundError\u001b[39;00m(\u001b[33mf\u001b[39m\u001b[33m\"\u001b[39m\u001b[38;5;132;01m{\u001b[39;00mpath\u001b[38;5;132;01m}\u001b[39;00m\u001b[33m not found.\u001b[39m\u001b[33m\"\u001b[39m)\n",
      "\u001b[31mFileNotFoundError\u001b[39m: /Volumes/Extreme SSD/data/c4mip_cmip6_ascii_files_11_models/ACCESS-ESM1-5/ACCESS-ESM1-5_1pc_COU.txt not found."
     ]
    }
   ],
   "source": [
    "### Load Arora et al. (2020) data for comparison\n",
    "\n",
    "# CMIP6 models\n",
    "arora_models = ['ACCESS-ESM1-5', 'BCC', 'CanESM5', 'CESM2', 'CNRM-ESM2.1', 'GFDL', 'IPSL', 'JAMSTEC', 'MPIESM', 'NorESM2LM', 'UKESM1']\n",
    "n_models = len(arora_models)\n",
    "\n",
    "# CMIP6 models loop\n",
    "for model_j in range(n_models):\n",
    "        model = arora_models[model_j]\n",
    "        print(model)\n",
    "\n",
    "        cou_data = np.genfromtxt('/Volumes/Extreme SSD/data/c4mip_cmip6_ascii_files_11_models/'+model+'/'+model+'_1pc_COU.txt', names=True, dtype=None, encoding=None)\n",
    "        bgc_data = np.genfromtxt('/Volumes/Extreme SSD/data/c4mip_cmip6_ascii_files_11_models/'+model+'/'+model+'_1pc_BGC.txt', names=True, dtype=None, encoding=None)\n",
    "\n",
    "        arora_st_cou = cou_data['ST']\n",
    "        arora_land_cou = cou_data['LA_CO2_FLUX']\n",
    "\n",
    "        arora_co2_bgc = bgc_data['CO2']\n",
    "        arora_land_bgc = bgc_data['LA_CO2_FLUX']\n",
    "\n",
    "        np.save('saved_data/arora_'+cmip6_models[model_j]+'_st_cou.npy', arora_st_cou)\n",
    "        np.save('saved_data/arora_'+cmip6_models[model_j]+'_land_cou.npy', arora_land_cou)\n",
    "        np.save('saved_data/arora_'+cmip6_models[model_j]+'_co2_bgc.npy', arora_co2_bgc)\n",
    "        np.save('saved_data/arora_'+cmip6_models[model_j]+'_land_bgc.npy', arora_land_bgc)\n",
    "\n"
   ]
  },
  {
   "cell_type": "code",
   "execution_count": null,
   "id": "18546e05",
   "metadata": {},
   "outputs": [],
   "source": [
    "### Calculation plots\n",
    "\n",
    "# Set up subplot figure\n",
    "fig = plt.figure(1, figsize=(32,68))\n",
    "gs = gspec.GridSpec(6, 2, figure=fig, width_ratios=[1, 1], hspace=0.8, wspace=0.7)\n",
    "column_1 = 0\n",
    "row_1 = 0\n",
    "mpl.rcParams['xtick.direction'] = 'out'\n",
    "mpl.rcParams['ytick.direction'] = 'out'\n",
    "mpl.rcParams['xtick.top'] = True \n",
    "mpl.rcParams['ytick.right'] = True\n",
    "mpl.rcParams['xtick.direction'] = 'out'\n",
    "mpl.rcParams['ytick.direction'] = 'out'\n",
    "mpl.rcParams['xtick.top'] = True\n",
    "mpl.rcParams['ytick.right'] = True\n",
    "params = {\n",
    "    'lines.linewidth':3,\n",
    "    'axes.facecolor':'white',\n",
    "    'xtick.color':'k',\n",
    "    'ytick.color':'k',\n",
    "    'axes.labelsize':84,\n",
    "    'xtick.labelsize':84,\n",
    "    'ytick.labelsize':84,\n",
    "    'font.size':84,\n",
    "}\n",
    "plt.rcParams.update(params)\n",
    "\n",
    "\n",
    "# C4MIP simulations: '1pctCO2' (COU), '1pctCO2-bgc' (BGC), '1pctCO2-rad' (RAD)\n",
    "\n",
    "# CMIP6 models\n",
    "cmip6_models = ['ACCESS-ESM1-5', 'BCC-CSM2-MR', 'CanESM5', 'CESM2', 'CNRM-ESM2-1', 'GFDL-ESM4', 'IPSL-CM6A-LR', 'MIROC-ES2L', 'MPI-ESM1-2-LR', 'NorESM2-LM', 'UKESM1-0-LL']\n",
    "n_models = len(cmip6_models)\n",
    "\n",
    "# CMIP6 models loop\n",
    "for model_i in range(n_models):\n",
    "        model = cmip6_models[model_i]\n",
    "        print(model)\n",
    "\n",
    "        # load CMIP6 data\n",
    "        time_dimension = np.load('saved_data/cmip6_timedimension.npy', allow_pickle=True)\n",
    "        tas_cou_data = np.load('saved_data/cmip6_'+model+'_T_COU.npy', allow_pickle=True)\n",
    "\n",
    "        # load Arora et al. (2020) data\n",
    "        arora_st_cou = np.load('saved_data/arora_'+model+'_st_cou.npy', allow_pickle=True)\n",
    "\n",
    "        ### Timeseries\n",
    "        ax = fig.add_subplot(gs[row_1, column_1])\n",
    "        ax.plot(time_dimension, tas_cou_data[0:140], 'b')\n",
    "        ax.plot(time_dimension, arora_st_cou[0:140], 'k--')\n",
    "        ax.set_xlabel('Time (years)')\n",
    "        ax.set_ylabel('Temperature (C)')\n",
    "\n",
    "        print(row_1, column_1)\n",
    "        # increase row and column \n",
    "        row_1 += 1 \n",
    "        if row_1==6:\n",
    "                column_1 += 1\n",
    "                row_1 = 0\n",
    "\n",
    "plt.savefig('figures/CMIP6_T_COU.png', bbox_inches='tight', dpi=200)\n",
    "plt.close()"
   ]
  }
 ],
 "metadata": {
  "kernelspec": {
   "display_name": "rmv",
   "language": "python",
   "name": "python3"
  },
  "language_info": {
   "codemirror_mode": {
    "name": "ipython",
    "version": 3
   },
   "file_extension": ".py",
   "mimetype": "text/x-python",
   "name": "python",
   "nbconvert_exporter": "python",
   "pygments_lexer": "ipython3",
   "version": "3.11.4"
  }
 },
 "nbformat": 4,
 "nbformat_minor": 5
}
